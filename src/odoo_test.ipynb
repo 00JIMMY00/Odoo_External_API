{
 "cells": [
  {
   "cell_type": "markdown",
   "metadata": {},
   "source": [
    "# Authintication to Database\n"
   ]
  },
  {
   "cell_type": "code",
   "execution_count": 1,
   "metadata": {},
   "outputs": [],
   "source": [
    "import xmlrpc.client"
   ]
  },
  {
   "cell_type": "code",
   "execution_count": 2,
   "metadata": {},
   "outputs": [],
   "source": [
    "\n",
    "url = \"https://databasetest123.odoo.com\"\n",
    "db = \"databasetest123\"\n",
    "username = 'jimmygamaljimmy@gmail.com'\n",
    "# password = 'rgkN3bSZ,Ji6,8J'\n",
    "api_key = '192eafb5e195f3a7121946177e6a781b43bfc81e'"
   ]
  },
  {
   "cell_type": "code",
   "execution_count": 3,
   "metadata": {},
   "outputs": [],
   "source": [
    "def authenticate(url: str, db: str, username: str, api_key: str):\n",
    "    try:\n",
    "        common = xmlrpc.client.ServerProxy(f\"{url}/xmlrpc/2/common\")\n",
    "        uid = common.authenticate(db, username, api_key, {})\n",
    "        if not uid:\n",
    "            raise Exception(\"Authentication failed. Check your credentials.\")\n",
    "        return uid\n",
    "    except Exception as e:\n",
    "        print(f\"Error: {e}\")\n",
    "        return None\n"
   ]
  },
  {
   "cell_type": "code",
   "execution_count": 4,
   "metadata": {},
   "outputs": [],
   "source": [
    "uid = authenticate(url, db, username, api_key)"
   ]
  },
  {
   "cell_type": "code",
   "execution_count": 5,
   "metadata": {},
   "outputs": [
    {
     "name": "stdout",
     "output_type": "stream",
     "text": [
      "2\n"
     ]
    }
   ],
   "source": [
    "print(uid)"
   ]
  },
  {
   "cell_type": "markdown",
   "metadata": {},
   "source": [
    "# Search and read "
   ]
  },
  {
   "cell_type": "code",
   "execution_count": 9,
   "metadata": {},
   "outputs": [
    {
     "data": {
      "text/plain": [
       "[{'id': 7,\n",
       "  'name': 'Amr emad',\n",
       "  'street': '',\n",
       "  'street2': False,\n",
       "  'city': '',\n",
       "  'state_id': False,\n",
       "  'zip': '',\n",
       "  'country_id': [65, 'Egypt'],\n",
       "  'email': 'Amremaad11@gmail.com'}]"
      ]
     },
     "execution_count": 9,
     "metadata": {},
     "output_type": "execute_result"
    }
   ],
   "source": [
    "models = xmlrpc.client.ServerProxy('{}/xmlrpc/2/object'.format(url))\n",
    "\n",
    "# Make API calls\n",
    "partners = models.execute_kw(\n",
    "    db, uid, api_key,\n",
    "    'res.partner', 'search_read',\n",
    "    [[['email', '=', \"Amremaad11@gmail.com\"]]],  # Domain filter\n",
    "    {'fields': ['id', 'name', 'street', 'street2', 'city', 'state_id', 'zip', 'country_id', 'email']}  # Fields to retrieve\n",
    ")\n",
    "\n",
    "partners"
   ]
  },
  {
   "cell_type": "code",
   "execution_count": 7,
   "metadata": {},
   "outputs": [
    {
     "data": {
      "text/plain": [
       "1"
      ]
     },
     "execution_count": 7,
     "metadata": {},
     "output_type": "execute_result"
    }
   ],
   "source": [
    "# search_read --> search_count , method changed for specific purpose \n",
    "count = models.execute_kw(\n",
    "    db, uid, api_key,\n",
    "    'res.partner', 'search_count',\n",
    "    [[['email', '=', \"Amremaad11@gmail.com\"]]] \n",
    ")\n",
    "count"
   ]
  },
  {
   "cell_type": "markdown",
   "metadata": {},
   "source": [
    "# Create records\n",
    "\n"
   ]
  },
  {
   "cell_type": "code",
   "execution_count": 13,
   "metadata": {},
   "outputs": [],
   "source": [
    "vals = {\n",
    "  'name': 'jimmy',\n",
    "  'street': 'abo zr',\n",
    "  'street2': False,\n",
    "  'city': 'sadat city',\n",
    "  'state_id': False,\n",
    "  'zip': '123789',\n",
    "  'country_id': 65,\n",
    "  'email': 'ag4663771@gmail.com'}\n",
    "\n",
    "id = models.execute_kw(db, uid, api_key, 'res.partner', 'create', [vals])\n"
   ]
  },
  {
   "cell_type": "code",
   "execution_count": 1,
   "metadata": {},
   "outputs": [],
   "source": [
    "\n",
    "url = \"https://databasetest123.odoo.com\"\n",
    "db = \"databasetest123\"\n",
    "username = 'jimmygamaljimmy@gmail.com'\n",
    "# password = 'rgkN3bSZ,Ji6,8J'\n",
    "api_key = '192eafb5e195f3a7121946177e6a781b43bfc81e'"
   ]
  },
  {
   "cell_type": "code",
   "execution_count": 2,
   "metadata": {},
   "outputs": [],
   "source": [
    "import xmlrpc.client\n",
    "models = xmlrpc.client.ServerProxy('{}/xmlrpc/2/object'.format(url))\n",
    "\n",
    "url = \"https://databasetest123.odoo.com\"\n",
    "db = \"databasetest123\"\n",
    "username = 'jimmygamaljimmy@gmail.com'\n",
    "api_key = '192eafb5e195f3a7121946177e6a781b43bfc81e'\n",
    "\n",
    "vals = {\n",
    "  'name': 'ali mahmoud',\n",
    "  'email': \"ali@gmail.com\"\n",
    "  }\n",
    "\n",
    "id = models.execute_kw(db, 2, api_key, 'res.partner', 'create', [vals])"
   ]
  },
  {
   "cell_type": "code",
   "execution_count": null,
   "metadata": {},
   "outputs": [],
   "source": []
  }
 ],
 "metadata": {
  "kernelspec": {
   "display_name": "base",
   "language": "python",
   "name": "python3"
  },
  "language_info": {
   "codemirror_mode": {
    "name": "ipython",
    "version": 3
   },
   "file_extension": ".py",
   "mimetype": "text/x-python",
   "name": "python",
   "nbconvert_exporter": "python",
   "pygments_lexer": "ipython3",
   "version": "3.12.7"
  }
 },
 "nbformat": 4,
 "nbformat_minor": 2
}
